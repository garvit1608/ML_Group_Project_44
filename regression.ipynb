{
 "cells": [
  {
   "cell_type": "code",
   "execution_count": 1,
   "source": [
    "from sklearn import preprocessing\n",
    "from sklearn.linear_model import LinearRegression\n",
    "from sklearn import model_selection\n",
    "from sklearn.model_selection import KFold\n",
    "from sklearn.neighbors import KNeighborsRegressor\n",
    "from sklearn.model_selection import train_test_split\n",
    "import numpy as np\n",
    "import pandas as pd\n",
    "import matplotlib.pyplot as plt\n",
    "import seaborn as sns\n",
    "from sklearn.metrics import r2_score\n",
    "from sklearn.linear_model import Ridge, Lasso"
   ],
   "outputs": [],
   "metadata": {}
  },
  {
   "cell_type": "code",
   "execution_count": 78,
   "source": [
    "df=pd.read_csv('data_3.csv')\n",
    "df2 = df\n",
    "\n",
    "# removing comma from sale price and downsizing it by dividing by 1000\n",
    "df.iloc[:,18] = df.iloc[:,18].replace(\",\", \"\", regex=True)\n",
    "df.iloc[:,18] = df.iloc[:,18].apply(lambda x: int(x) / 1000) \n",
    "df.iloc[:,13] = df.iloc[:,13].replace(\",\", \"\", regex=True)\n",
    "\n",
    "y = df['SALE_PRICE']\n",
    "\n",
    "df3 = df2[['LAND_SQUARE_FEET', 'RESIDENTIAL_UNITS', 'COMMERCIAL_UNITS', 'BUILDING_CLASS_AT_PRESENT', 'TAX_CLASS_AT_TIME_OF_SALE']].copy()\n",
    "\n",
    "# converting LAND_SQUARE_FEET from string to int\n",
    "df3.iloc[:,1] = df3.iloc[:,1].replace(\",\", \"\", regex=True)\n",
    "df3['LAND_SQUARE_FEET'] = df3['LAND_SQUARE_FEET'].apply(lambda x: int(x))\n",
    "\n",
    "# calculating age of house at the time of sale\n",
    "Age = pd.DatetimeIndex(df['SALE_DATE']).year - df['YEAR_BUILT']\n",
    "df3['Age'] = Age\n",
    "\n",
    "# mapping string code to int code to use TAX_CLASS_AT_PRESENT feature for regression\n",
    "tax_class = df[\"TAX_CLASS_AT_PRESENT\"].replace({\"1B\": \"5\", \"2A\": \"6\", \"2B\": \"7\"})\n",
    "df3['TAX_CLASS'] = tax_class\n",
    "\n",
    "# Function to covert string to its ascii integer\n",
    "def str_to_code(x):\n",
    "    temp = ''\n",
    "    for j in range(len(x)):\n",
    "        if x[j] >= '0' and x[j] <= '9':\n",
    "            temp = temp + str(ord(x[j]) - 48)\n",
    "        else:\n",
    "            temp = temp + str(ord(x[j]) - 64)\n",
    "    return temp\n",
    "\n",
    "# mapping string code to int code to use BUILDING_CLASS_AT_PRESENT feature for regression\n",
    "df3['BUILDING_CLASS_AT_PRESENT'] = df3['BUILDING_CLASS_AT_PRESENT'].apply(lambda x: (str_to_code(x)))\n",
    "\n",
    "\n",
    "fold = KFold(n_splits=5) # Number of validation set k folds 1:5 ratio\n",
    "\n",
    "# Splitting dataset into 70 30 ratio.\n",
    "X_train, X_test, y_train, y_test = train_test_split(df3,y, test_size=0.2)\n",
    "\n",
    "models = [LinearRegression(), Lasso(alpha=50), Ridge(alpha=50), KNeighborsRegressor(n_neighbors=10)]\n",
    "\n",
    "Temp_df = pd.DataFrame()\n",
    "temp_dict = {}\n",
    "\n",
    "for model in models:\n",
    "    model_name = str(model)\n",
    "    temp_dict['Model'] = model_name[:model_name.index('(')]\n",
    "    model.fit(X_train, y_train)\n",
    "    temp_dict['R2_Score'] = r2_score(y_test, model.predict(X_test))\n",
    "    result = model_selection.cross_val_score(model, df3, y, cv=fold)\n",
    "    print('r2 score for test data',r2_score(y_test, model.predict(X_test)))\n",
    "    print('r2 score for train data',r2_score(y_train, model.predict(X_train)))\n",
    "    print(\"mean value is \", result.mean())\n",
    "    print(\"standard deviation is \", result.std())\n",
    "    Temp_df = Temp_df.append([temp_dict])\n",
    "\n",
    "Temp_df.set_index('Model', inplace=True)\n",
    "fig, axes = plt.subplots(ncols=1, figsize=(10, 4))\n",
    "Temp_df.R2_Score.plot(ax=axes, kind='bar', title='R2 Score')\n",
    "plt.show()"
   ],
   "outputs": [
    {
     "output_type": "stream",
     "name": "stdout",
     "text": [
      "r2 score for test data 0.1322393572863243\n",
      "r2 score for train data 0.11897564419199502\n",
      "mean value is  -32.165679043757414\n",
      "standard deviation is  64.19587613371371\n",
      "r2 score for test data 0.12709973634292626\n",
      "r2 score for train data 0.11840694681550124\n",
      "mean value is  -30.940224940907843\n",
      "standard deviation is  61.7849835840589\n",
      "r2 score for test data 0.13133395026580774\n",
      "r2 score for train data 0.11893218460259469\n",
      "mean value is  -32.09179193274524\n",
      "standard deviation is  64.04999028018342\n"
     ]
    },
    {
     "output_type": "stream",
     "name": "stderr",
     "text": [
      "/usr/local/lib/python3.9/site-packages/sklearn/base.py:441: UserWarning: X does not have valid feature names, but KNeighborsRegressor was fitted with feature names\n",
      "  warnings.warn(\n",
      "/usr/local/lib/python3.9/site-packages/sklearn/base.py:441: UserWarning: X does not have valid feature names, but KNeighborsRegressor was fitted with feature names\n",
      "  warnings.warn(\n",
      "/usr/local/lib/python3.9/site-packages/sklearn/base.py:441: UserWarning: X does not have valid feature names, but KNeighborsRegressor was fitted with feature names\n",
      "  warnings.warn(\n",
      "/usr/local/lib/python3.9/site-packages/sklearn/base.py:441: UserWarning: X does not have valid feature names, but KNeighborsRegressor was fitted with feature names\n",
      "  warnings.warn(\n",
      "/usr/local/lib/python3.9/site-packages/sklearn/base.py:441: UserWarning: X does not have valid feature names, but KNeighborsRegressor was fitted with feature names\n",
      "  warnings.warn(\n",
      "/usr/local/lib/python3.9/site-packages/sklearn/base.py:441: UserWarning: X does not have valid feature names, but KNeighborsRegressor was fitted with feature names\n",
      "  warnings.warn(\n",
      "/usr/local/lib/python3.9/site-packages/sklearn/base.py:441: UserWarning: X does not have valid feature names, but KNeighborsRegressor was fitted with feature names\n",
      "  warnings.warn(\n",
      "/usr/local/lib/python3.9/site-packages/sklearn/base.py:441: UserWarning: X does not have valid feature names, but KNeighborsRegressor was fitted with feature names\n",
      "  warnings.warn(\n"
     ]
    },
    {
     "output_type": "stream",
     "name": "stdout",
     "text": [
      "r2 score for test data 0.26658425025479016\n",
      "r2 score for train data 0.37906765088673544\n",
      "mean value is  -0.046275270909539735\n",
      "standard deviation is  0.3834251607244231\n"
     ]
    },
    {
     "output_type": "display_data",
     "data": {
      "image/png": "[encoded data removed]",
      "text/plain": [
       "<Figure size 720x288 with 1 Axes>"
      ]
     },
     "metadata": {
      "needs_background": "light"
     }
    }
   ],
   "metadata": {}
  },
  {
   "cell_type": "code",
   "execution_count": 66,
   "source": [
    "import matplotlib.pyplot as plt1\n",
    "c = [0.001, 0.01, 0.1, 1, 10, 1000, 10000, 20000]\n",
    "alpha_lasso = []\n",
    "folds = model_selection.KFold(n_splits=5)\n",
    "for a in c:\n",
    "    alpha_lasso.append(1/(2*a))\n",
    "\n",
    "\n",
    "mean = []\n",
    "standard_deviation = [] \n",
    "for i in alpha_lasso:\n",
    "    model = Lasso(alpha=i) # Lasso regression \n",
    "    result = model_selection.cross_val_score(model, df3, y, cv=folds)\n",
    "    mean.append(result.mean())\n",
    "    standard_deviation.append(result.std())\n",
    "print(f'mean values are {mean}')\n",
    "print(f'standard deviation are {standard_deviation}')\n",
    "plt1.errorbar(np.log(c), mean, yerr=standard_deviation, fmt='o-', ecolor='red')\n",
    "plt1.legend([\"Red = Error and Blue = Mean score\"], loc=4)\n",
    "plt1.xlabel(\"log(c)\")\n",
    "plt1.ylabel(\"mean\")\n",
    "plt1.show()\n"
   ],
   "outputs": [
    {
     "output_type": "stream",
     "name": "stdout",
     "text": [
      "mean values are [-27.519089745555544, -30.940224940907843, -32.01806669678817, -32.15090034271415, -32.16420098465484, -32.16566426295399, -32.16567756568713, -32.165678304722874]\n",
      "standard deviation are [54.90478232005855, 61.7849835840589, 63.90521268784079, 64.16678055091262, 64.19296625509108, 64.19584703456708, 64.19587322381832, 64.19587467876704]\n"
     ]
    },
    {
     "output_type": "display_data",
     "data": {
      "image/png": "[encoded data removed]",
      "text/plain": [
       "<Figure size 432x288 with 1 Axes>"
      ]
     },
     "metadata": {
      "needs_background": "light"
     }
    }
   ],
   "metadata": {}
  },
  {
   "cell_type": "code",
   "execution_count": 10,
   "source": [
    "import matplotlib.pyplot as plt1\n",
    "c = [0.001, 0.01, 0.1, 1, 10, 1000, 10000, 20000]\n",
    "alpha_ridge = []\n",
    "folds = model_selection.KFold(n_splits=5)\n",
    "for a in c:\n",
    "    alpha_ridge.append(1/(2*a))\n",
    "\n",
    "\n",
    "mean = []\n",
    "standard_deviation = []\n",
    "for i in alpha_ridge:\n",
    "    model = Ridge(alpha=i) # Ridge Regression\n",
    "    result = model_selection.cross_val_score(model, df3, y, cv=folds)\n",
    "    mean.append(result.mean())\n",
    "    standard_deviation.append(result.std())\n",
    "print(f'mean values are {mean}')\n",
    "print(f'standard deviation are {standard_deviation}')\n",
    "plt1.errorbar(np.log(c), mean, yerr=standard_deviation, fmt='o-', ecolor='red')\n",
    "plt1.legend([\"Red = Error and Blue = Mean score\"], loc=4)\n",
    "plt1.xlabel(\"log(c)\")\n",
    "plt1.ylabel(\"mean\")\n",
    "plt1.show()\n"
   ],
   "outputs": [
    {
     "output_type": "stream",
     "name": "stdout",
     "text": [
      "mean values are [-31.58724008227726, -32.09179193274523, -32.15807215581207, -32.164916094109266, -32.1656027261021, -32.16567828055598, -32.1656789674373, -32.1656790055974]\n",
      "standard deviation are [63.05811798400648, 64.04999028018341, 64.18084745194847, 64.19436870097131, 64.19572534462422, 64.19587462577256, 64.19587598291962, 64.19587605831673]\n"
     ]
    },
    {
     "output_type": "display_data",
     "data": {
      "image/png": "[encoded data removed]",
      "text/plain": [
       "<Figure size 432x288 with 1 Axes>"
      ]
     },
     "metadata": {
      "needs_background": "light"
     }
    }
   ],
   "metadata": {}
  },
  {
   "cell_type": "code",
   "execution_count": 77,
   "source": [
    "import matplotlib.pyplot as plt1\n",
    "alpha_ridge = []\n",
    "folds = model_selection.KFold(n_splits=5)\n",
    "K = [3, 6, 10, 20]\n",
    "\n",
    "mean = []\n",
    "standard_deviation = []\n",
    "for i in K:\n",
    "    print(i)\n",
    "    model = KNeighborsRegressor(n_neighbors=i) #KNeighbour Regression\n",
    "    model.fit(X_train, y_train)\n",
    "    result = model_selection.cross_val_score(model, df3, y, cv=folds)\n",
    "    mean.append(result.mean())\n",
    "    standard_deviation.append(result.std())\n",
    "print(f'mean values are {mean}')\n",
    "print(f'standard deviation are {standard_deviation}')\n",
    "plt1.errorbar(K, mean, yerr=standard_deviation, fmt='o-', ecolor='red')\n",
    "plt1.legend([\"Red = Error and Blue = Mean score\"], loc=4)\n",
    "plt1.xlabel(\"K\")\n",
    "plt1.ylabel(\"mean\")\n",
    "plt1.show()\n"
   ],
   "outputs": [
    {
     "output_type": "stream",
     "name": "stdout",
     "text": [
      "3\n",
      "6\n",
      "10\n"
     ]
    },
    {
     "output_type": "stream",
     "name": "stderr",
     "text": [
      "/usr/local/lib/python3.9/site-packages/sklearn/base.py:441: UserWarning: X does not have valid feature names, but KNeighborsRegressor was fitted with feature names\n",
      "  warnings.warn(\n",
      "/usr/local/lib/python3.9/site-packages/sklearn/base.py:441: UserWarning: X does not have valid feature names, but KNeighborsRegressor was fitted with feature names\n",
      "  warnings.warn(\n",
      "/usr/local/lib/python3.9/site-packages/sklearn/base.py:441: UserWarning: X does not have valid feature names, but KNeighborsRegressor was fitted with feature names\n",
      "  warnings.warn(\n",
      "/usr/local/lib/python3.9/site-packages/sklearn/base.py:441: UserWarning: X does not have valid feature names, but KNeighborsRegressor was fitted with feature names\n",
      "  warnings.warn(\n",
      "/usr/local/lib/python3.9/site-packages/sklearn/base.py:441: UserWarning: X does not have valid feature names, but KNeighborsRegressor was fitted with feature names\n",
      "  warnings.warn(\n",
      "/usr/local/lib/python3.9/site-packages/sklearn/base.py:441: UserWarning: X does not have valid feature names, but KNeighborsRegressor was fitted with feature names\n",
      "  warnings.warn(\n",
      "/usr/local/lib/python3.9/site-packages/sklearn/base.py:441: UserWarning: X does not have valid feature names, but KNeighborsRegressor was fitted with feature names\n",
      "  warnings.warn(\n",
      "/usr/local/lib/python3.9/site-packages/sklearn/base.py:441: UserWarning: X does not have valid feature names, but KNeighborsRegressor was fitted with feature names\n",
      "  warnings.warn(\n",
      "/usr/local/lib/python3.9/site-packages/sklearn/base.py:441: UserWarning: X does not have valid feature names, but KNeighborsRegressor was fitted with feature names\n",
      "  warnings.warn(\n",
      "/usr/local/lib/python3.9/site-packages/sklearn/base.py:441: UserWarning: X does not have valid feature names, but KNeighborsRegressor was fitted with feature names\n",
      "  warnings.warn(\n",
      "/usr/local/lib/python3.9/site-packages/sklearn/base.py:441: UserWarning: X does not have valid feature names, but KNeighborsRegressor was fitted with feature names\n",
      "  warnings.warn(\n",
      "/usr/local/lib/python3.9/site-packages/sklearn/base.py:441: UserWarning: X does not have valid feature names, but KNeighborsRegressor was fitted with feature names\n",
      "  warnings.warn(\n",
      "/usr/local/lib/python3.9/site-packages/sklearn/base.py:441: UserWarning: X does not have valid feature names, but KNeighborsRegressor was fitted with feature names\n",
      "  warnings.warn(\n",
      "/usr/local/lib/python3.9/site-packages/sklearn/base.py:441: UserWarning: X does not have valid feature names, but KNeighborsRegressor was fitted with feature names\n",
      "  warnings.warn(\n",
      "/usr/local/lib/python3.9/site-packages/sklearn/base.py:441: UserWarning: X does not have valid feature names, but KNeighborsRegressor was fitted with feature names\n",
      "  warnings.warn(\n",
      "/usr/local/lib/python3.9/site-packages/sklearn/base.py:441: UserWarning: X does not have valid feature names, but KNeighborsRegressor was fitted with feature names\n",
      "  warnings.warn(\n",
      "/usr/local/lib/python3.9/site-packages/sklearn/base.py:441: UserWarning: X does not have valid feature names, but KNeighborsRegressor was fitted with feature names\n",
      "  warnings.warn(\n",
      "/usr/local/lib/python3.9/site-packages/sklearn/base.py:441: UserWarning: X does not have valid feature names, but KNeighborsRegressor was fitted with feature names\n",
      "  warnings.warn(\n",
      "/usr/local/lib/python3.9/site-packages/sklearn/base.py:441: UserWarning: X does not have valid feature names, but KNeighborsRegressor was fitted with feature names\n",
      "  warnings.warn(\n",
      "/usr/local/lib/python3.9/site-packages/sklearn/base.py:441: UserWarning: X does not have valid feature names, but KNeighborsRegressor was fitted with feature names\n",
      "  warnings.warn(\n"
     ]
    },
    {
     "output_type": "stream",
     "name": "stdout",
     "text": [
      "20\n",
      "mean values are [-0.2895477466523696, -0.09048376709398195, -0.046275270909539735, -0.1817216731662406]\n",
      "standard deviation are [0.588055271980789, 0.41225316327063716, 0.3834251607244231, 0.7069444878544059]\n"
     ]
    },
    {
     "output_type": "display_data",
     "data": {
      "image/png": "[encoded data removed]",
      "text/plain": [
       "<Figure size 432x288 with 1 Axes>"
      ]
     },
     "metadata": {
      "needs_background": "light"
     }
    }
   ],
   "metadata": {}
  }
 ],
 "metadata": {
  "orig_nbformat": 4,
  "language_info": {
   "name": "python",
   "version": "3.9.7",
   "mimetype": "text/x-python",
   "codemirror_mode": {
    "name": "ipython",
    "version": 3
   },
   "pygments_lexer": "ipython3",
   "nbconvert_exporter": "python",
   "file_extension": ".py"
  },
  "kernelspec": {
   "name": "python3",
   "display_name": "Python 3.9.7 64-bit"
  },
  "interpreter": {
   "hash": "aee8b7b246df8f9039afb4144a1f6fd8d2ca17a180786b69acc140d282b71a49"
  }
 },
 "nbformat": 4,
 "nbformat_minor": 2
}